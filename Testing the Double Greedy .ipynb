{
 "cells": [
  {
   "cell_type": "markdown",
   "metadata": {},
   "source": [
    "# Testing Double Greedy\n",
    "We first load the files and packages needed for testing and revision."
   ]
  },
  {
   "cell_type": "code",
   "execution_count": 1,
   "metadata": {},
   "outputs": [],
   "source": [
    "using Printf\n",
    "using Revise\n",
    "\n",
    "includet(\"../code_base/function_oracles.jl\")\n",
    "includet(\"../code_base/matroid_oracles.jl\")\n",
    "includet(\"../code_base/submodular_algs.jl\")"
   ]
  },
  {
   "cell_type": "markdown",
   "metadata": {},
   "source": [
    "First let us start with creating a graph for which we can compute the exact answer. In particular, we will use the graph of a 4-clique, each vertex with cost 1, 2, 3, 4, respectively. Our algorithm is going to produce the set containing all vertices. "
   ]
  },
  {
   "cell_type": "code",
   "execution_count": 2,
   "metadata": {},
   "outputs": [
    {
     "name": "stdout",
     "output_type": "stream",
     "text": [
      "Set([4, 2, 3, 1])\n"
     ]
    }
   ],
   "source": [
    "adj = Dict{Int64, Set{Int64}}()\n",
    "\n",
    "G = Set(1 : 4)\n",
    "\n",
    "for i in 1 : 4\n",
    "    adj[i] = setdiff(G, Set(i))\n",
    "end\n",
    "\n",
    "c = Vector{Int64}(undef, 4)\n",
    "for i in 1 : 4\n",
    "    c[i] = i\n",
    "end\n",
    "\n",
    "f_diff(S, e) = weighted_vertex_cover_diff(e, S, adj)\n",
    "\n",
    "println(double_greedy(f_diff, 4))"
   ]
  },
  {
   "cell_type": "markdown",
   "metadata": {},
   "source": [
    "Therefore, we see that the results align with our expectation. Now we want to test the random version as well. Now since the function that we are testing on is monotone, it is clear that we can expect it to behave the same way as does the deterministic version. "
   ]
  },
  {
   "cell_type": "code",
   "execution_count": 3,
   "metadata": {},
   "outputs": [
    {
     "name": "stdout",
     "output_type": "stream",
     "text": [
      "Set([4, 2, 3, 1])\n"
     ]
    }
   ],
   "source": [
    "println(double_greedy(f_diff, 4, random = true))"
   ]
  },
  {
   "cell_type": "markdown",
   "metadata": {},
   "source": [
    "Notice that we have obtained exactly the results we wanted. We now want to test our algorithm on a non-monotone submodular function. We will actually choose graph cut problems for this purpose. The particular example that we choose is a 3-3 complete bipartite graph. For this purpose, we call the `weighted_cut_diff` function in the function oracles.  "
   ]
  },
  {
   "cell_type": "code",
   "execution_count": 4,
   "metadata": {},
   "outputs": [
    {
     "name": "stdout",
     "output_type": "stream",
     "text": [
      "Set([3, 5, 1])\n"
     ]
    }
   ],
   "source": [
    "edge_list = [[1 2]; [1 4]; [1 6]; [3 2]; [3 4]; [3 6]; [5 2]; [5 4]; [5 6]]\n",
    "\n",
    "h_diff(S, e) = weighted_cut_diff(e, S, edge_list)\n",
    "\n",
    "println(double_greedy(h_diff, 6))"
   ]
  },
  {
   "cell_type": "markdown",
   "metadata": {},
   "source": [
    "Notice that we indeed get the result that we wanted. Now we turn to the randomized version of this algorithm. "
   ]
  },
  {
   "cell_type": "code",
   "execution_count": 27,
   "metadata": {},
   "outputs": [
    {
     "name": "stdout",
     "output_type": "stream",
     "text": [
      "Set([4, 6, 1])\n"
     ]
    }
   ],
   "source": [
    "println(double_greedy(h_diff, 6, random = true))"
   ]
  },
  {
   "cell_type": "markdown",
   "metadata": {},
   "source": [
    "Notice that the results given is reasonable given that our algorithm is randomized. "
   ]
  }
 ],
 "metadata": {
  "@webio": {
   "lastCommId": null,
   "lastKernelId": null
  },
  "kernelspec": {
   "display_name": "Julia 1.1.0",
   "language": "julia",
   "name": "julia-1.1"
  },
  "language_info": {
   "file_extension": ".jl",
   "mimetype": "application/julia",
   "name": "julia",
   "version": "1.1.0"
  }
 },
 "nbformat": 4,
 "nbformat_minor": 2
}
