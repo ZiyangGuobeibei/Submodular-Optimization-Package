{
 "cells": [
  {
   "cell_type": "markdown",
   "metadata": {},
   "source": [
    "# Testing Sample Greedy\n",
    "This is a jupyter notebook that intends to test the sample greedy algorithm that I coded up using some simple problems. We first load the files and packages that we need."
   ]
  },
  {
   "cell_type": "code",
   "execution_count": 1,
   "metadata": {},
   "outputs": [],
   "source": [
    "using Printf\n",
    "using Revise\n",
    "\n",
    "includet(\"../code_base/function_oracles.jl\")\n",
    "includet(\"../code_base/matroid_oracles.jl\")\n",
    "includet(\"../code_base/submodular_algs.jl\")"
   ]
  },
  {
   "cell_type": "markdown",
   "metadata": {},
   "source": [
    "Since sample greedy is a randomized algorithm, and there really is no way of determining what it should produce, we will first start with a very basic example. "
   ]
  },
  {
   "cell_type": "code",
   "execution_count": 10,
   "metadata": {},
   "outputs": [
    {
     "name": "stdout",
     "output_type": "stream",
     "text": [
      "Set([4, 3])\n"
     ]
    }
   ],
   "source": [
    "function f_diff(S, i)\n",
    "    if i in S\n",
    "        return 0\n",
    "    else\n",
    "        return i\n",
    "    end\n",
    "end\n",
    "\n",
    "ind = Set([Set([1]), Set([2]), Set([3]), Set([4]), Set([1, 2]), Set([1, 3]), Set([1, 4]), Set([2, 3]), Set([2, 4]), Set([3, 4])])\n",
    "\n",
    "println(sample_greedy(f_diff, ind, 4, 1))"
   ]
  },
  {
   "cell_type": "markdown",
   "metadata": {},
   "source": [
    "We see that the algorithm does not crash and produces a reasonable answer. Now we turn to the algorithm with lazy evaluation."
   ]
  },
  {
   "cell_type": "code",
   "execution_count": 12,
   "metadata": {},
   "outputs": [
    {
     "name": "stdout",
     "output_type": "stream",
     "text": [
      "Set([4, 2])\n"
     ]
    }
   ],
   "source": [
    "println(sample_greedy(f_diff, ind, 4, 1, lazy = true))"
   ]
  },
  {
   "cell_type": "markdown",
   "metadata": {},
   "source": [
    "See that the result is also reasonable. "
   ]
  }
 ],
 "metadata": {
  "kernelspec": {
   "display_name": "Julia 1.1.0",
   "language": "julia",
   "name": "julia-1.1"
  },
  "language_info": {
   "file_extension": ".jl",
   "mimetype": "application/julia",
   "name": "julia",
   "version": "1.1.0"
  }
 },
 "nbformat": 4,
 "nbformat_minor": 2
}
