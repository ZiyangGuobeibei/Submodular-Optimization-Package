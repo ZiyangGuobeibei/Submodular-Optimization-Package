{
 "cells": [
  {
   "cell_type": "markdown",
   "metadata": {},
   "source": [
    "# Random Greedy\n",
    "In this notebook, we hope to test the random greedy algorithm with some simple examples. First let us load the necessary files. "
   ]
  },
  {
   "cell_type": "code",
   "execution_count": 1,
   "metadata": {},
   "outputs": [],
   "source": [
    "# import the algorithms code with revise\n",
    "using Printf\n",
    "using Revise\n",
    "includet(\"../code_base/function_oracles.jl\")\n",
    "includet(\"../code_base/matroid_oracles.jl\")\n",
    "includet(\"../code_base/submodular_algs.jl\")"
   ]
  },
  {
   "cell_type": "markdown",
   "metadata": {},
   "source": [
    "We first run it on a 4 clique and see what happens. "
   ]
  },
  {
   "cell_type": "code",
   "execution_count": 3,
   "metadata": {},
   "outputs": [
    {
     "data": {
      "text/plain": [
       "Set([2, 3, 1])"
      ]
     },
     "execution_count": 3,
     "metadata": {},
     "output_type": "execute_result"
    }
   ],
   "source": [
    "adj = Dict{Int64, Set{Int64}}()\n",
    "adj[1] = Set([2, 3, 4])\n",
    "adj[2] = Set([1, 3, 4])\n",
    "adj[3] = Set([1, 2, 4])\n",
    "adj[4] = Set([1, 2, 3])"
   ]
  },
  {
   "cell_type": "code",
   "execution_count": null,
   "metadata": {},
   "outputs": [],
   "source": []
  }
 ],
 "metadata": {
  "kernelspec": {
   "display_name": "Julia 1.1.0",
   "language": "julia",
   "name": "julia-1.1"
  },
  "language_info": {
   "file_extension": ".jl",
   "mimetype": "application/julia",
   "name": "julia",
   "version": "1.1.0"
  }
 },
 "nbformat": 4,
 "nbformat_minor": 2
}
