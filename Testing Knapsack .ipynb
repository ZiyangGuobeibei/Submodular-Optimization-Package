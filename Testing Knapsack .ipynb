{
 "cells": [
  {
   "cell_type": "markdown",
   "metadata": {},
   "source": [
    "# Testing Knapsack Greedy\n",
    "\n",
    "## 1. Basic Performance\n",
    "\n",
    "This is a file dedicated to testing knapsack greedy. We will use small examples to illustrate that the algorithms behaves the way that we expect them to. \n",
    "\n",
    "We will begin by importing `julia` files. We will be using `Revise` extensively because it is highly convenient for Jupyter Notebooks. "
   ]
  },
  {
   "cell_type": "code",
   "execution_count": 1,
   "metadata": {},
   "outputs": [],
   "source": [
    "using Printf\n",
    "using Revise\n",
    "\n",
    "includet(\"../code_base/function_oracles.jl\")\n",
    "includet(\"../code_base/matroid_oracles.jl\")\n",
    "includet(\"../code_base/submodular_algs.jl\")"
   ]
  },
  {
   "cell_type": "markdown",
   "metadata": {},
   "source": [
    "First let us start with creating a graph for which we can compute the exact answer. In particular, we will use the graph of a 4-clique, each vertex with cost 1, 2, 3, 4, respectively. Our budget is going to be 3. After some thought, it is not hard to see that our algorithm should output the set with only 1 contained. (since we break the tie by choosing the result of benefit-cost ratio greedy). "
   ]
  },
  {
   "cell_type": "code",
   "execution_count": 4,
   "metadata": {},
   "outputs": [
    {
     "name": "stdout",
     "output_type": "stream",
     "text": [
      "Set([1])\n"
     ]
    }
   ],
   "source": [
    "adj = Dict{Int64, Set{Int64}}()\n",
    "\n",
    "G = Set(1 : 4)\n",
    "\n",
    "for i in 1 : 4\n",
    "    adj[i] = setdiff(G, Set(i))\n",
    "end\n",
    "\n",
    "c = Vector{Int64}(undef, 4)\n",
    "for i in 1 : 4\n",
    "    c[i] = i\n",
    "end\n",
    "\n",
    "f_diff(S, e) = weighted_vertex_cover_diff(e, S, adj)\n",
    "\n",
    "println(knapsack_greedy_final(f_diff, c, 3, 4))"
   ]
  },
  {
   "cell_type": "markdown",
   "metadata": {},
   "source": [
    "We also want to test the lazy feature."
   ]
  },
  {
   "cell_type": "code",
   "execution_count": 5,
   "metadata": {},
   "outputs": [
    {
     "name": "stdout",
     "output_type": "stream",
     "text": [
      "Set([1])\n"
     ]
    }
   ],
   "source": [
    "println(knapsack_greedy_final(f_diff, c, 3, 4, lazy = true))"
   ]
  },
  {
   "cell_type": "code",
   "execution_count": 6,
   "metadata": {},
   "outputs": [
    {
     "name": "stdout",
     "output_type": "stream",
     "text": [
      "Set(Int64[])\n"
     ]
    }
   ],
   "source": [
    "adj_2 = Dict{Int64, Set{Int64}}()\n",
    "\n",
    "G_1 = Set(1 : 4)\n",
    "G_2 = Set(5 : 9)\n",
    "\n",
    "for i in 1 : 4\n",
    "    adj_2[i] = setdiff(G_1, Set(i))\n",
    "end\n",
    "\n",
    "for i in 5 : 9\n",
    "    adj_2[i] = setdiff(G_2, Set(i))\n",
    "end\n",
    "\n",
    "c_2 = Vector{Int64}(undef, 9)\n",
    "\n",
    "for i in 1 : 9\n",
    "    c_2[i] = i\n",
    "end\n",
    "\n",
    "g_diff(S, e) = weighted_vertex_cover_diff(e, S, adj_2)\n",
    "\n",
    "println(knapsack_greedy_final(g_diff, c_2, 0, 9))"
   ]
  },
  {
   "cell_type": "markdown",
   "metadata": {},
   "source": [
    "See that the set returned is empty, and the algorithm therefore does not fail, at least in this instance, on edge cases. We now test the knapsack greedy with lazy evaluation."
   ]
  },
  {
   "cell_type": "code",
   "execution_count": 7,
   "metadata": {},
   "outputs": [
    {
     "name": "stdout",
     "output_type": "stream",
     "text": [
      "Set(Int64[])\n"
     ]
    }
   ],
   "source": [
    "println(knapsack_greedy_final(g_diff, c_2, 0, 9, lazy = true))"
   ]
  },
  {
   "cell_type": "markdown",
   "metadata": {},
   "source": [
    "Next, we hope to test the algorithm on a larger graph, consisting of a 4 clique and a 5 clique. We then impose different budget constraint on the problem to see if the algorithm produces what we want.  "
   ]
  },
  {
   "cell_type": "code",
   "execution_count": 8,
   "metadata": {},
   "outputs": [
    {
     "name": "stdout",
     "output_type": "stream",
     "text": [
      "Set([1])\n"
     ]
    }
   ],
   "source": [
    "println(knapsack_greedy_final(g_diff, c_2, 3, 9))"
   ]
  },
  {
   "cell_type": "markdown",
   "metadata": {},
   "source": [
    "The result is what we expected, given that the budget constraint 3 will forbid all nodes in the 5 clique to be chosen. We now test it with lazy evaluation."
   ]
  },
  {
   "cell_type": "code",
   "execution_count": 9,
   "metadata": {},
   "outputs": [
    {
     "name": "stdout",
     "output_type": "stream",
     "text": [
      "Set([1])\n"
     ]
    }
   ],
   "source": [
    "println(knapsack_greedy_final(g_diff, c_2, 3, 9, lazy = true))"
   ]
  },
  {
   "cell_type": "markdown",
   "metadata": {},
   "source": [
    "See that the results match with our expectation."
   ]
  },
  {
   "cell_type": "code",
   "execution_count": 10,
   "metadata": {},
   "outputs": [
    {
     "name": "stdout",
     "output_type": "stream",
     "text": [
      "Set([5])\n"
     ]
    }
   ],
   "source": [
    "println(knapsack_greedy_final(g_diff, c_2, 5, 9))"
   ]
  },
  {
   "cell_type": "markdown",
   "metadata": {},
   "source": [
    "The result is still what we want, given that the $1$ node and the $4$ node offer hte best benefit-cost ratio. We now test it with the lazy evaluation."
   ]
  },
  {
   "cell_type": "code",
   "execution_count": 11,
   "metadata": {},
   "outputs": [
    {
     "name": "stdout",
     "output_type": "stream",
     "text": [
      "Set([5])\n"
     ]
    }
   ],
   "source": [
    "println(knapsack_greedy_final(g_diff, c_2, 5, 9, lazy = true))"
   ]
  },
  {
   "cell_type": "code",
   "execution_count": null,
   "metadata": {},
   "outputs": [],
   "source": [
    "See that the result matches with our expectation."
   ]
  },
  {
   "cell_type": "code",
   "execution_count": 12,
   "metadata": {},
   "outputs": [
    {
     "name": "stdout",
     "output_type": "stream",
     "text": [
      "Set([5, 1])\n"
     ]
    }
   ],
   "source": [
    "println(knapsack_greedy_final(g_diff, c_2, 6, 9))"
   ]
  },
  {
   "cell_type": "markdown",
   "metadata": {},
   "source": [
    "We have seen that our algorithm produces the right answer every time. The reader should talke a moment to verify that the examples above are correct. We now test it with lazy evaluation."
   ]
  },
  {
   "cell_type": "code",
   "execution_count": 13,
   "metadata": {},
   "outputs": [
    {
     "name": "stdout",
     "output_type": "stream",
     "text": [
      "Set([5, 1])\n"
     ]
    }
   ],
   "source": [
    "println(knapsack_greedy_final(g_diff, c_2, 6, 9, lazy = true))"
   ]
  },
  {
   "cell_type": "markdown",
   "metadata": {},
   "source": [
    "The result matches with our expectation."
   ]
  }
 ],
 "metadata": {
  "@webio": {
   "lastCommId": null,
   "lastKernelId": null
  },
  "kernelspec": {
   "display_name": "Julia 1.1.0",
   "language": "julia",
   "name": "julia-1.1"
  },
  "language_info": {
   "file_extension": ".jl",
   "mimetype": "application/julia",
   "name": "julia",
   "version": "1.1.0"
  }
 },
 "nbformat": 4,
 "nbformat_minor": 2
}
